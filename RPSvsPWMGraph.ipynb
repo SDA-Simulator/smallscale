{
 "cells": [
  {
   "cell_type": "code",
   "execution_count": 2,
   "id": "be599539",
   "metadata": {},
   "outputs": [
    {
     "data": {
      "text/html": [
       "<div>\n",
       "<style scoped>\n",
       "    .dataframe tbody tr th:only-of-type {\n",
       "        vertical-align: middle;\n",
       "    }\n",
       "\n",
       "    .dataframe tbody tr th {\n",
       "        vertical-align: top;\n",
       "    }\n",
       "\n",
       "    .dataframe thead th {\n",
       "        text-align: right;\n",
       "    }\n",
       "</style>\n",
       "<table border=\"1\" class=\"dataframe\">\n",
       "  <thead>\n",
       "    <tr style=\"text-align: right;\">\n",
       "      <th></th>\n",
       "      <th>Percent</th>\n",
       "      <th>PWM</th>\n",
       "      <th>RPS</th>\n",
       "    </tr>\n",
       "  </thead>\n",
       "  <tbody>\n",
       "    <tr>\n",
       "      <th>0</th>\n",
       "      <td>-100</td>\n",
       "      <td>-255.00</td>\n",
       "      <td>50</td>\n",
       "    </tr>\n",
       "    <tr>\n",
       "      <th>1</th>\n",
       "      <td>-95</td>\n",
       "      <td>-242.25</td>\n",
       "      <td>48</td>\n",
       "    </tr>\n",
       "    <tr>\n",
       "      <th>2</th>\n",
       "      <td>-85</td>\n",
       "      <td>-216.75</td>\n",
       "      <td>46</td>\n",
       "    </tr>\n",
       "    <tr>\n",
       "      <th>3</th>\n",
       "      <td>-80</td>\n",
       "      <td>-204.00</td>\n",
       "      <td>43</td>\n",
       "    </tr>\n",
       "    <tr>\n",
       "      <th>4</th>\n",
       "      <td>-75</td>\n",
       "      <td>-191.25</td>\n",
       "      <td>40</td>\n",
       "    </tr>\n",
       "  </tbody>\n",
       "</table>\n",
       "</div>"
      ],
      "text/plain": [
       "   Percent     PWM  RPS\n",
       "0     -100 -255.00   50\n",
       "1      -95 -242.25   48\n",
       "2      -85 -216.75   46\n",
       "3      -80 -204.00   43\n",
       "4      -75 -191.25   40"
      ]
     },
     "execution_count": 2,
     "metadata": {},
     "output_type": "execute_result"
    }
   ],
   "source": [
    "import csv\n",
    "import pandas as pd\n",
    "import numpy as np\n",
    "from matplotlib import pyplot as plt\n",
    "from sklearn.linear_model import LinearRegression\n",
    "\n",
    "df = pd.read_csv(\"~/Downloads/10_31_Test_NOTCONFIRMED - Sheet1.csv\")\n",
    "\n",
    "df.head()"
   ]
  },
  {
   "cell_type": "code",
   "execution_count": 3,
   "id": "e8fca8ef",
   "metadata": {},
   "outputs": [
    {
     "name": "stdout",
     "output_type": "stream",
     "text": [
      "Slope:  -0.18130888719124008\n",
      "Intercept:  4.81818181818182\n",
      "Quadratic Function:              2\n",
      "-0.0001969 x - 0.2567 x - 2.077\n"
     ]
    },
    {
     "data": {
      "image/png": "[encoded data removed]",
      "text/plain": [
       "<Figure size 432x288 with 1 Axes>"
      ]
     },
     "metadata": {
      "needs_background": "light"
     },
     "output_type": "display_data"
    }
   ],
   "source": [
    "cols = df.columns\n",
    "\n",
    "percent = cols[0]\n",
    "pwm = cols[1]\n",
    "rps = cols[2]\n",
    "\n",
    "plt.figure()\n",
    "plt.title(\"Angular Velocity (RPS)) vs. PWM (Negative)\")\n",
    "plt.plot(df[pwm], df[rps])\n",
    "plt.xlabel(\"PWM (Negative)\")\n",
    "plt.ylabel(\"Angular Velocity (RPS)\")\n",
    "\n",
    "#linear fit\n",
    "model = LinearRegression()\n",
    "model.fit(df[[pwm]], df[rps])\n",
    "slope = model.coef_[0]\n",
    "intercept = model.intercept_\n",
    "print(\"Slope: \", slope)\n",
    "print(\"Intercept: \", intercept)\n",
    "\n",
    "\n",
    "\n",
    "# Fit a quadratic curve\n",
    "coefficients = np.polyfit(df[pwm], df[rps], 2)\n",
    "\n",
    "# Create a function for the quadratic fit\n",
    "fit_function = np.poly1d(coefficients)\n",
    "print(\"Quadratic Function: \", fit_function)"
   ]
  }
 ],
 "metadata": {
  "kernelspec": {
   "display_name": "Python 3 (ipykernel)",
   "language": "python",
   "name": "python3"
  },
  "language_info": {
   "codemirror_mode": {
    "name": "ipython",
    "version": 3
   },
   "file_extension": ".py",
   "mimetype": "text/x-python",
   "name": "python",
   "nbconvert_exporter": "python",
   "pygments_lexer": "ipython3",
   "version": "3.8.8"
  }
 },
 "nbformat": 4,
 "nbformat_minor": 5
}
